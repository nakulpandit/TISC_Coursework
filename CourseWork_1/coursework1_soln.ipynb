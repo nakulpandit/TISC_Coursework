{
 "cells": [
  {
   "cell_type": "markdown",
   "id": "86f0fa77",
   "metadata": {},
   "source": [
    "# MTH739 – Topics in Scientific Computing 2025/26\n",
    "# Coursework 1 : Trisolaris: the three body problem\n",
    "### Nakul Pandit\n",
    "#### Student id: 250919679"
   ]
  },
  {
   "cell_type": "markdown",
   "id": "1c6cc15d",
   "metadata": {},
   "source": []
  }
 ],
 "metadata": {
  "language_info": {
   "name": "python"
  }
 },
 "nbformat": 4,
 "nbformat_minor": 5
}
